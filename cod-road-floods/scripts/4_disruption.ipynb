{
 "cells": [
  {
   "cell_type": "code",
   "execution_count": 4,
   "id": "7974d0f3",
   "metadata": {},
   "outputs": [],
   "source": [
    "from pathlib import Path\n",
    "\n",
    "import snkit"
   ]
  },
  {
   "cell_type": "code",
   "execution_count": 5,
   "id": "58d1aa47",
   "metadata": {},
   "outputs": [],
   "source": [
    "# set up variables for incoming and processed data paths\n",
    "project_path = Path().resolve().parent # assume we're running from the project scripts directory, so get the parent\n",
    "incoming_data_path = project_path / \"incoming_data\"\n",
    "processed_data_path = project_path / \"processed_data\""
   ]
  },
  {
   "cell_type": "code",
   "execution_count": 6,
   "id": "c5b40bc8",
   "metadata": {},
   "outputs": [],
   "source": [
    "road_network_path = processed_data_path / \"networks\" / \"transport\" / \"road.2025-04-30.gpkg\"\n",
    "network = snkit.network.read_file(road_network_path, nodes_layer=\"road_nodes\", edges_layer=\"road_edges\")\n",
    "road_graph = snkit.network.to_networkx(network, weight_col=\"length_m\")"
   ]
  }
 ],
 "metadata": {
  "kernelspec": {
   "display_name": "Python 3",
   "language": "python",
   "name": "python3"
  },
  "language_info": {
   "codemirror_mode": {
    "name": "ipython",
    "version": 3
   },
   "file_extension": ".py",
   "mimetype": "text/x-python",
   "name": "python",
   "nbconvert_exporter": "python",
   "pygments_lexer": "ipython3",
   "version": "3.12.10"
  }
 },
 "nbformat": 4,
 "nbformat_minor": 5
}
